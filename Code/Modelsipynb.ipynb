{
  "nbformat": 4,
  "nbformat_minor": 0,
  "metadata": {
    "colab": {
      "name": "Modelsipynb",
      "provenance": []
    },
    "kernelspec": {
      "name": "python3",
      "display_name": "Python 3"
    }
  },
  "cells": [
    {
      "cell_type": "code",
      "metadata": {
        "colab": {
          "base_uri": "https://localhost:8080/"
        },
        "id": "tEjxPkMtiep_",
        "outputId": "a7f8e47b-26ea-4e99-b468-d8c42209bb97"
      },
      "source": [
        "import pandas as pd\r\n",
        "df_income = pd.read_csv('kaggle_income.csv', encoding= 'ISO-8859-1')\r\n",
        "df_income.info()"
      ],
      "execution_count": null,
      "outputs": [
        {
          "output_type": "stream",
          "text": [
            "<class 'pandas.core.frame.DataFrame'>\n",
            "RangeIndex: 32526 entries, 0 to 32525\n",
            "Data columns (total 19 columns):\n",
            " #   Column      Non-Null Count  Dtype  \n",
            "---  ------      --------------  -----  \n",
            " 0   id          32526 non-null  int64  \n",
            " 1   State_Code  32526 non-null  int64  \n",
            " 2   State_Name  32526 non-null  object \n",
            " 3   State_ab    32526 non-null  object \n",
            " 4   County      32526 non-null  object \n",
            " 5   City        32526 non-null  object \n",
            " 6   Place       32526 non-null  object \n",
            " 7   Type        32526 non-null  object \n",
            " 8   Primary     32526 non-null  object \n",
            " 9   Zip_Code    32526 non-null  int64  \n",
            " 10  Area_Code   32526 non-null  object \n",
            " 11  ALand       32526 non-null  int64  \n",
            " 12  AWater      32526 non-null  int64  \n",
            " 13  Lat         32526 non-null  float64\n",
            " 14  Lon         32526 non-null  float64\n",
            " 15  Mean        32526 non-null  int64  \n",
            " 16  Median      32526 non-null  int64  \n",
            " 17  Stdev       32526 non-null  int64  \n",
            " 18  sum_w       32526 non-null  float64\n",
            "dtypes: float64(3), int64(8), object(8)\n",
            "memory usage: 4.7+ MB\n"
          ],
          "name": "stdout"
        }
      ]
    },
    {
      "cell_type": "code",
      "metadata": {
        "id": "QLq5nsNzuiTx"
      },
      "source": [
        ""
      ],
      "execution_count": null,
      "outputs": []
    },
    {
      "cell_type": "code",
      "metadata": {
        "id": "BQcfs29LzzvE"
      },
      "source": [
        ""
      ],
      "execution_count": null,
      "outputs": []
    },
    {
      "cell_type": "code",
      "metadata": {
        "colab": {
          "base_uri": "https://localhost:8080/",
          "height": 343
        },
        "id": "baWhB8EPz1PH",
        "outputId": "f9d4a9b0-1ae3-4a7e-bbe6-62886a5e5a07"
      },
      "source": [
        "from sklearn.model_selection import train_test_split\r\n",
        "df_income['Area_Code_Num'] = pd.to_numeric(df_income['Area_Code'], errors='coerce')\r\n",
        "df_income['Area_Code_Num'].fillna(0,inplace=True)\r\n",
        "dummies_Type= pd.get_dummies(df_income['Type'], prefix='Type') \r\n",
        "dummies_Primary = pd.get_dummies(df_income['Primary'], prefix='Primary')\r\n",
        "y= df_income[['Mean']]\r\n",
        "#df_income_new=pd.concat([df_income, dummies_Type, dummies_Primary], axis=1)\r\n",
        "df_income.drop(['id','State_Name', 'State_ab','County', 'City','Place','Type','Primary', 'Median','Stdev','Area_Code','Mean'], axis=1, inplace=True)\r\n",
        "X = df_income\r\n",
        "\r\n",
        "X_train, X_test, y_train , y_test = train_test_split(X,y, test_size=0.1, random_state=3)\r\n",
        "X_train.head(10)"
      ],
      "execution_count": null,
      "outputs": [
        {
          "output_type": "execute_result",
          "data": {
            "text/html": [
              "<div>\n",
              "<style scoped>\n",
              "    .dataframe tbody tr th:only-of-type {\n",
              "        vertical-align: middle;\n",
              "    }\n",
              "\n",
              "    .dataframe tbody tr th {\n",
              "        vertical-align: top;\n",
              "    }\n",
              "\n",
              "    .dataframe thead th {\n",
              "        text-align: right;\n",
              "    }\n",
              "</style>\n",
              "<table border=\"1\" class=\"dataframe\">\n",
              "  <thead>\n",
              "    <tr style=\"text-align: right;\">\n",
              "      <th></th>\n",
              "      <th>State_Code</th>\n",
              "      <th>Zip_Code</th>\n",
              "      <th>ALand</th>\n",
              "      <th>AWater</th>\n",
              "      <th>Lat</th>\n",
              "      <th>Lon</th>\n",
              "      <th>sum_w</th>\n",
              "      <th>Area_Code_Num</th>\n",
              "    </tr>\n",
              "  </thead>\n",
              "  <tbody>\n",
              "    <tr>\n",
              "      <th>24107</th>\n",
              "      <td>41</td>\n",
              "      <td>97603</td>\n",
              "      <td>5376012</td>\n",
              "      <td>0</td>\n",
              "      <td>42.195721</td>\n",
              "      <td>-121.714444</td>\n",
              "      <td>1422.206867</td>\n",
              "      <td>541.0</td>\n",
              "    </tr>\n",
              "    <tr>\n",
              "      <th>22468</th>\n",
              "      <td>39</td>\n",
              "      <td>44052</td>\n",
              "      <td>1117351</td>\n",
              "      <td>258847</td>\n",
              "      <td>41.460555</td>\n",
              "      <td>-82.194496</td>\n",
              "      <td>402.584133</td>\n",
              "      <td>440.0</td>\n",
              "    </tr>\n",
              "    <tr>\n",
              "      <th>26081</th>\n",
              "      <td>45</td>\n",
              "      <td>29936</td>\n",
              "      <td>655791460</td>\n",
              "      <td>3616013</td>\n",
              "      <td>32.548390</td>\n",
              "      <td>-81.093104</td>\n",
              "      <td>552.951132</td>\n",
              "      <td>843.0</td>\n",
              "    </tr>\n",
              "    <tr>\n",
              "      <th>28204</th>\n",
              "      <td>48</td>\n",
              "      <td>76180</td>\n",
              "      <td>2818034</td>\n",
              "      <td>0</td>\n",
              "      <td>32.853840</td>\n",
              "      <td>-97.202665</td>\n",
              "      <td>452.910377</td>\n",
              "      <td>817.0</td>\n",
              "    </tr>\n",
              "    <tr>\n",
              "      <th>23382</th>\n",
              "      <td>39</td>\n",
              "      <td>43701</td>\n",
              "      <td>17825561</td>\n",
              "      <td>683652</td>\n",
              "      <td>39.998870</td>\n",
              "      <td>-81.992374</td>\n",
              "      <td>335.547967</td>\n",
              "      <td>740.0</td>\n",
              "    </tr>\n",
              "    <tr>\n",
              "      <th>15756</th>\n",
              "      <td>27</td>\n",
              "      <td>55378</td>\n",
              "      <td>10702693</td>\n",
              "      <td>292286</td>\n",
              "      <td>44.731093</td>\n",
              "      <td>-93.352225</td>\n",
              "      <td>158.615346</td>\n",
              "      <td>952.0</td>\n",
              "    </tr>\n",
              "    <tr>\n",
              "      <th>25011</th>\n",
              "      <td>42</td>\n",
              "      <td>15210</td>\n",
              "      <td>849780</td>\n",
              "      <td>0</td>\n",
              "      <td>40.384700</td>\n",
              "      <td>-79.992046</td>\n",
              "      <td>182.429223</td>\n",
              "      <td>412.0</td>\n",
              "    </tr>\n",
              "    <tr>\n",
              "      <th>1430</th>\n",
              "      <td>5</td>\n",
              "      <td>72201</td>\n",
              "      <td>2788581</td>\n",
              "      <td>394309</td>\n",
              "      <td>34.759842</td>\n",
              "      <td>-92.270569</td>\n",
              "      <td>199.394982</td>\n",
              "      <td>501.0</td>\n",
              "    </tr>\n",
              "    <tr>\n",
              "      <th>10396</th>\n",
              "      <td>18</td>\n",
              "      <td>46516</td>\n",
              "      <td>4202645</td>\n",
              "      <td>703582</td>\n",
              "      <td>41.690062</td>\n",
              "      <td>-85.949999</td>\n",
              "      <td>1621.516750</td>\n",
              "      <td>574.0</td>\n",
              "    </tr>\n",
              "    <tr>\n",
              "      <th>22888</th>\n",
              "      <td>39</td>\n",
              "      <td>44137</td>\n",
              "      <td>3354889</td>\n",
              "      <td>0</td>\n",
              "      <td>41.414279</td>\n",
              "      <td>-81.516590</td>\n",
              "      <td>1209.385083</td>\n",
              "      <td>216.0</td>\n",
              "    </tr>\n",
              "  </tbody>\n",
              "</table>\n",
              "</div>"
            ],
            "text/plain": [
              "       State_Code  Zip_Code      ALand  ...         Lon        sum_w  Area_Code_Num\n",
              "24107          41     97603    5376012  ... -121.714444  1422.206867          541.0\n",
              "22468          39     44052    1117351  ...  -82.194496   402.584133          440.0\n",
              "26081          45     29936  655791460  ...  -81.093104   552.951132          843.0\n",
              "28204          48     76180    2818034  ...  -97.202665   452.910377          817.0\n",
              "23382          39     43701   17825561  ...  -81.992374   335.547967          740.0\n",
              "15756          27     55378   10702693  ...  -93.352225   158.615346          952.0\n",
              "25011          42     15210     849780  ...  -79.992046   182.429223          412.0\n",
              "1430            5     72201    2788581  ...  -92.270569   199.394982          501.0\n",
              "10396          18     46516    4202645  ...  -85.949999  1621.516750          574.0\n",
              "22888          39     44137    3354889  ...  -81.516590  1209.385083          216.0\n",
              "\n",
              "[10 rows x 8 columns]"
            ]
          },
          "metadata": {
            "tags": []
          },
          "execution_count": 4
        }
      ]
    },
    {
      "cell_type": "code",
      "metadata": {
        "id": "8GRK1hdWjUYt"
      },
      "source": [
        "from sklearn_pandas import DataFrameMapper\r\n",
        "from sklearn.preprocessing import StandardScaler\r\n",
        "mapper = DataFrameMapper([(X_train.columns, StandardScaler())])\r\n",
        "scaled_features = mapper.fit_transform(X_train.copy())\r\n",
        "X_train_scaled= pd.DataFrame(scaled_features, index=X_train.index, columns=X_train.columns)\r\n",
        "scaled_features_test = mapper.fit_transform(X_test.copy())\r\n",
        "X_test_scaled= pd.DataFrame(scaled_features_test, index=X_test.index, columns=X_test.columns)"
      ],
      "execution_count": null,
      "outputs": []
    },
    {
      "cell_type": "code",
      "metadata": {
        "colab": {
          "base_uri": "https://localhost:8080/"
        },
        "id": "TzgXZ7AVjfwd",
        "outputId": "51b6a3b9-2494-489e-cfe4-52ca9fd9d113"
      },
      "source": [
        "from sklearn.linear_model import LinearRegression\r\n",
        "from sklearn.metrics import explained_variance_score, mean_squared_error, r2_score\r\n",
        "from sklearn.metrics import accuracy_score\r\n",
        "model = LinearRegression()\r\n",
        "model.fit(X_train_scaled, y_train)\r\n",
        "y_pred_linear = model.predict(X_test_scaled)\r\n",
        "print('Explained variance score: %2f' % explained_variance_score(y_test,y_pred_linear))\r\n",
        "print('Mean squared error: %2f' % mean_squared_error(y_test,y_pred_linear))\r\n",
        "print('Variance score: %2f' % r2_score(y_test,y_pred_linear))\r\n",
        "\r\n"
      ],
      "execution_count": null,
      "outputs": [
        {
          "output_type": "stream",
          "text": [
            "Explained variance score: 0.038219\n",
            "Mean squared error: 892501858.534230\n",
            "Variance score: 0.038195\n"
          ],
          "name": "stdout"
        }
      ]
    },
    {
      "cell_type": "code",
      "metadata": {
        "colab": {
          "base_uri": "https://localhost:8080/"
        },
        "id": "TzgKV4dwlByj",
        "outputId": "977ad228-ddb2-42bf-c7b2-c57faf739d15"
      },
      "source": [
        "from sklearn.ensemble import RandomForestRegressor\r\n",
        "from sklearn.metrics import explained_variance_score, mean_squared_error, r2_score\r\n",
        "from sklearn.metrics import accuracy_score\r\n",
        "model = RandomForestRegressor(random_state=0, n_jobs=-1)\r\n",
        "model.fit(X_train, y_train.values.ravel())\r\n",
        "y_pred_rf = model.predict(X_test)\r\n",
        "print('Explained variance score: %2f' % explained_variance_score(y_test,y_pred_rf))\r\n",
        "print('Mean squared error: %2f' % mean_squared_error(y_test,y_pred_rf))\r\n",
        "print('Variance score: %2f' % r2_score(y_test,y_pred_rf))\r\n",
        "\r\n"
      ],
      "execution_count": null,
      "outputs": [
        {
          "output_type": "stream",
          "text": [
            "Explained variance score: 0.529226\n",
            "Mean squared error: 437160706.779049\n",
            "Variance score: 0.528894\n"
          ],
          "name": "stdout"
        }
      ]
    },
    {
      "cell_type": "code",
      "metadata": {
        "colab": {
          "base_uri": "https://localhost:8080/"
        },
        "id": "QeMRT8s06Iiw",
        "outputId": "4d250767-5a6e-4501-abcf-e0c321daa37f"
      },
      "source": [
        "from sklearn.neighbors import KNeighborsRegressor\r\n",
        "\r\n",
        "model = KNeighborsRegressor(n_neighbors=18)\r\n",
        "model.fit(X_train, y_train)\r\n",
        "y_pred_knn = model.predict(X_test)\r\n",
        "print('Explained variance score: %2f' % explained_variance_score(y_test,y_pred_knn))\r\n",
        "print('Mean squared error: %2f' % mean_squared_error(y_test,y_pred_knn))\r\n",
        "print('Variance score: %2f' % r2_score(y_test,y_pred_knn))\r\n",
        "\r\n"
      ],
      "execution_count": null,
      "outputs": [
        {
          "output_type": "stream",
          "text": [
            "Explained variance score: 0.034953\n",
            "Mean squared error: 895534414.536968\n",
            "Variance score: 0.034927\n"
          ],
          "name": "stdout"
        }
      ]
    },
    {
      "cell_type": "code",
      "metadata": {
        "colab": {
          "base_uri": "https://localhost:8080/"
        },
        "id": "wcXYSSai_oU0",
        "outputId": "8b3029cc-6516-4fc9-c07d-5beb83ad9a1a"
      },
      "source": [
        "from sklearn.naive_bayes import GaussianNB\r\n",
        "from sklearn.metrics import accuracy_score\r\n",
        "\r\n",
        "\r\n",
        "model = GaussianNB()\r\n",
        "model.fit(X_train_scaled, y_train)\r\n",
        "y_pred_nb = model.predict(X_test_scaled)\r\n",
        "print('Explained variance score: %2f' % explained_variance_score(y_test,y_pred_nb))\r\n",
        "print('Mean squared error: %2f' % mean_squared_error(y_test,y_pred_nb))\r\n",
        "print('Variance score: %2f' % r2_score(y_test,y_pred_nb))\r\n"
      ],
      "execution_count": null,
      "outputs": [
        {
          "output_type": "stream",
          "text": [
            "/usr/local/lib/python3.6/dist-packages/sklearn/naive_bayes.py:206: DataConversionWarning: A column-vector y was passed when a 1d array was expected. Please change the shape of y to (n_samples, ), for example using ravel().\n",
            "  y = column_or_1d(y, warn=True)\n"
          ],
          "name": "stderr"
        },
        {
          "output_type": "stream",
          "text": [
            "Explained variance score: -0.106392\n",
            "Mean squared error: 1102887040.074393\n",
            "Variance score: -0.188527\n"
          ],
          "name": "stdout"
        }
      ]
    },
    {
      "cell_type": "code",
      "metadata": {
        "colab": {
          "base_uri": "https://localhost:8080/"
        },
        "id": "oAbJEwRykg45",
        "outputId": "9cd39d7a-72bf-4dae-d6b6-0affc9fd94f2"
      },
      "source": [
        "from sklearn import svm\r\n",
        "\r\n",
        "#Create a svm Classifier\r\n",
        "mode = svm.SVC(kernel='linear') # Linear Kernel\r\n",
        "\r\n",
        "#Train the model using the training sets\r\n",
        "model.fit(X_train, y_train)\r\n",
        "\r\n",
        "#Predict the response for test dataset\r\n",
        "y_pred_svm = model.predict(X_test)\r\n",
        "print('Explained variance score: %2f' % explained_variance_score(y_test,y_pred_svm))\r\n",
        "print('Mean squared error: %2f' % mean_squared_error(y_test,y_pred_svm))\r\n",
        "print('Variance score: %2f' % r2_score(y_test,y_pred_svm))\r\n"
      ],
      "execution_count": null,
      "outputs": [
        {
          "output_type": "stream",
          "text": [
            "/usr/local/lib/python3.6/dist-packages/sklearn/naive_bayes.py:206: DataConversionWarning: A column-vector y was passed when a 1d array was expected. Please change the shape of y to (n_samples, ), for example using ravel().\n",
            "  y = column_or_1d(y, warn=True)\n"
          ],
          "name": "stderr"
        },
        {
          "output_type": "stream",
          "text": [
            "Explained variance score: -0.642465\n",
            "Mean squared error: 1524120048.178912\n",
            "Variance score: -0.642469\n"
          ],
          "name": "stdout"
        }
      ]
    },
    {
      "cell_type": "code",
      "metadata": {
        "colab": {
          "base_uri": "https://localhost:8080/",
          "height": 313
        },
        "id": "lzpabnf_vh3P",
        "outputId": "4daabe99-8eaf-4789-8fe5-f9bbce186390"
      },
      "source": [
        "import numpy as np\r\n",
        "import matplotlib.pyplot as plt\r\n",
        "\r\n",
        "y= np.array([r2_score(y_test,y_pred_linear),r2_score(y_test,y_pred_rf),r2_score(y_test,y_pred_knn),r2_score(y_test,y_pred_nb),r2_score(y_test,y_pred_svm)])\r\n",
        "x=['Linear', 'Random_forest', 'KNN','NaiveBayes','SVM']\r\n",
        "plt.bar(x,y)\r\n",
        "plt.title('Comparsion')\r\n",
        "plt.xlabel('Regressor')\r\n",
        "plt.ylabel('r2_score')"
      ],
      "execution_count": null,
      "outputs": [
        {
          "output_type": "execute_result",
          "data": {
            "text/plain": [
              "Text(0, 0.5, 'r2_score')"
            ]
          },
          "metadata": {
            "tags": []
          },
          "execution_count": 17
        },
        {
          "output_type": "display_data",
          "data": {
            "image/png": "[encoded data removed]",
            "text/plain": [
              "<Figure size 432x288 with 1 Axes>"
            ]
          },
          "metadata": {
            "tags": [],
            "needs_background": "light"
          }
        }
      ]
    }
  ]
}